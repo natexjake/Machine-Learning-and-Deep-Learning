{
  "nbformat": 4,
  "nbformat_minor": 0,
  "metadata": {
    "colab": {
      "provenance": [],
      "authorship_tag": "ABX9TyOZ1cVFdg+XKop1d5rqIg1u",
      "include_colab_link": true
    },
    "kernelspec": {
      "name": "python3",
      "display_name": "Python 3"
    },
    "language_info": {
      "name": "python"
    }
  },
  "cells": [
    {
      "cell_type": "markdown",
      "metadata": {
        "id": "view-in-github",
        "colab_type": "text"
      },
      "source": [
        "<a href=\"https://colab.research.google.com/github/natexjake/Machine-Learning-and-Deep-Learning/blob/main/Introduction_To_Deep_Learning_Using_TensorFlow_Speaker_For_GDSC.ipynb\" target=\"_parent\"><img src=\"https://colab.research.google.com/assets/colab-badge.svg\" alt=\"Open In Colab\"/></a>"
      ]
    },
    {
      "cell_type": "markdown",
      "source": [
        "Welcome to this Colab where you will train your first Machine Learning model!\n",
        "We'll try to keep things simple here, and only introduce basic concepts. The problem we will solve is to convert the a, b, c into the discriminant. where the approximate formula is:\n",
        "\n",
        "<br>\n",
        "$$ b^2 - 4ac $$\n",
        "<br>\n",
        "\n",
        "Of course, it would be simple enough to create a conventional Python function that directly performs this calculation, but that wouldn't be machine learning.\n",
        "\n",
        "<br>\n",
        "\n",
        "Instead, we will give TensorFlow some sample a, b, c values <br><br>\n",
        "\n",
        "1. [2, 5, 3]\n",
        "2. [1, -4, 4]\n",
        "3. [3, 0, -2]\n",
        "4. [5, 7, 2]\n",
        "5. [1, 2, -3]\n",
        "6. [0.5, 1.5, -0.5]\n",
        "7. [3, -6, 3]\n",
        "8. [2.5, 7.2, 1.1]\n",
        "9. [5, 7, 2]\n",
        "10. [1, 2, -3]\n",
        "\n",
        "and their corresponding root values\n",
        "\n",
        "1. [-1.0, -1.5]\n",
        "2. [2.0, 2.0]\n",
        "3. [0.8164965809277259, -0.8164965809277259]\n",
        "4. [-0.4, -1.0]\n",
        "5. [4, 2]\n",
        "6. [0.30277563773199456, -3.302775637731995]\n",
        "7. [1.0, 1.0]\n",
        "8. [-0.1618763753063634, -2.7181236246936367]\n",
        "9. [-0.4, -1.0]\n",
        "10. [1.0, -3.0]\n",
        "\n",
        "\n",
        "Then, we will train a model that figures out the above formula through the training process.\n"
      ],
      "metadata": {
        "id": "wMU6qSoccTce"
      }
    },
    {
      "cell_type": "markdown",
      "source": [
        "<h1> Import Dependencies </h2>"
      ],
      "metadata": {
        "id": "ol8c4Udhnknu"
      }
    },
    {
      "cell_type": "markdown",
      "source": [
        "First, import TensorFlow. Here, we're calling it `tf` for ease of use. We also tell it to only display errors.\n",
        "\n",
        "Next, import [NumPy](http://www.numpy.org/) as `np`. Numpy helps us to represent our data as highly performant lists."
      ],
      "metadata": {
        "id": "EDrZiGI7nm_D"
      }
    },
    {
      "cell_type": "code",
      "source": [
        "import tensorflow as tf # Import TensorFlow library and alias it as 'tf'"
      ],
      "metadata": {
        "id": "lOzk3w5YoAb6"
      },
      "execution_count": null,
      "outputs": []
    },
    {
      "cell_type": "code",
      "source": [
        "import numpy as np # Import NumPy library and alias it as 'np'\n",
        "import logging # Import logging module from Python standard library\n",
        "\n",
        "logger = tf.get_logger() # Get the TensorFlow logger\n",
        "logger.setLevel(logging.ERROR) # Set the logging level to only display error messages"
      ],
      "metadata": {
        "id": "Ps91zu5ioFi9"
      },
      "execution_count": null,
      "outputs": []
    },
    {
      "cell_type": "markdown",
      "source": [
        "<h1> Set up training data </h1>"
      ],
      "metadata": {
        "id": "pbM1rGT_KJ1g"
      }
    },
    {
      "cell_type": "markdown",
      "source": [
        "Supervised Machine Learning is all about figuring out an algorithm given a set of inputs and outputs. Create a model that can give the roots or the x-intercepts when given the a, b, c of the Quadratic Formula."
      ],
      "metadata": {
        "id": "-H6-J1IuKtp5"
      }
    },
    {
      "cell_type": "code",
      "source": [
        "input = np.array([ #Define an array of a, b, c\n",
        "    [2.0, 5.0, 3.0],\n",
        "    [1.0, -4.0, 4.0],\n",
        "    [3.0, 0.0, -2.0],\n",
        "    [5.0, 7.0, 2.0],\n",
        "    [1.0, 2.0, -3.0],\n",
        "    [0.5, 1.5, -0.5],\n",
        "    [3.0, -6.0, 3.0],\n",
        "    [2.5, 7.2, 1.1],\n",
        "    [5.0, 7.0, 2.0],\n",
        "    [1.0, 2.0, -3.0]\n",
        "], dtype=float)\n",
        "\n",
        "output = np.array([ #Define an array of roots\n",
        "    [-1.0, -1.5],\n",
        "    [2.0, 2.0],\n",
        "    [0.8164965809277259, -0.8164965809277259],\n",
        "    [-0.4, -1.0],\n",
        "    [4.0, 2.0],\n",
        "    [0.30277563773199456, -3.302775637731995],\n",
        "    [1.0, 1.0],\n",
        "    [-0.1618763753063634, -2.7181236246936367],\n",
        "    [-0.4, -1.0],\n",
        "    [1.0, -3.0]\n",
        "], dtype=float)\n",
        "\n",
        "# Iterate over each input and its corresponding outputs\n",
        "for i in range(len(input)):\n",
        "    input_data = input[i] #assigns the current input index into the input_data\n",
        "    output_data = output[i] #assigns the current output index into the output_data\n",
        "    print(\"Input: {:<18} Output: {}\".format(str(input_data), str(output_data))) #{:<18} left alignment of a field width of 18 characters for the input data to ensure equal spacing"
      ],
      "metadata": {
        "colab": {
          "base_uri": "https://localhost:8080/"
        },
        "id": "pMH5gIWcbjDH",
        "outputId": "74326003-726a-4358-9a0b-b8e0d6e180d5"
      },
      "execution_count": null,
      "outputs": [
        {
          "output_type": "stream",
          "name": "stdout",
          "text": [
            "Input: [2. 5. 3.]         Output: [-1.  -1.5]\n",
            "Input: [ 1. -4.  4.]      Output: [2. 2.]\n",
            "Input: [ 3.  0. -2.]      Output: [ 0.81649658 -0.81649658]\n",
            "Input: [5. 7. 2.]         Output: [-0.4 -1. ]\n",
            "Input: [ 1.  2. -3.]      Output: [4. 2.]\n",
            "Input: [ 0.5  1.5 -0.5]   Output: [ 0.30277564 -3.30277564]\n",
            "Input: [ 3. -6.  3.]      Output: [1. 1.]\n",
            "Input: [2.5 7.2 1.1]      Output: [-0.16187638 -2.71812362]\n",
            "Input: [5. 7. 2.]         Output: [-0.4 -1. ]\n",
            "Input: [ 1.  2. -3.]      Output: [ 1. -3.]\n"
          ]
        }
      ]
    },
    {
      "cell_type": "markdown",
      "source": [
        "<h1> Some Machine Learning terminology </h1>\n",
        "\n",
        "- **Feature** — The inputs to our model. In this case, a, b, c\n",
        "\n",
        " - **Labels** — The output our model predicts. In this case, the two roots\n",
        "\n",
        " - **Example** — A pair of inputs/outputs used during training. In our case a pair of values from `input` and `output` at a specific index, such as `(2.0 5.0 3.0) - (-1.0  -1.5)`."
      ],
      "metadata": {
        "id": "Y2QymfPbv0oM"
      }
    },
    {
      "cell_type": "markdown",
      "source": [
        "<h1> Create the Model <h2>\n",
        "\n",
        "Next, create the model. We will use the simplest possible model we can, a Dense network. Since the problem is straightforward, this network will require only a single layer, with a single neuron.\n",
        "\n",
        "### Build a layer\n",
        "\n",
        "We'll call the layer `l0` and create it by instantiating `tf.keras.layers.Dense` with the following configuration:\n",
        "\n",
        "*   `input_shape=[1]` — This specifies that the input to this layer is a single value. That is, the shape is a one-dimensional array with one member. Since this is the first (and only) layer, that input shape is the input shape of the entire model. The single value is a floating point number, representing degrees Celsius.\n",
        "\n",
        "*   `units=1` — This specifies the number of neurons in the layer. The number of neurons defines how many internal variables the layer has to try to learn how to solve the problem (more later). Since this is the final layer, it is also the size of the model's output — a single float value representing degrees Fahrenheit. (In a multi-layered network, the size and shape of the layer would need to match the `input_shape` of the next layer.)\n"
      ],
      "metadata": {
        "id": "EHuoyL4fxMT9"
      }
    },
    {
      "cell_type": "code",
      "source": [
        "l0 = tf.keras.layers.Dense(units=2, input_shape=[3])\n",
        "model = tf.keras.Sequential([l0])\n",
        "model.compile(loss='mean_squared_error', optimizer=tf.keras.optimizers.Adam(0.1))\n",
        "history = model.fit(input, output, epochs=500, verbose=False)\n",
        "prediction = model.predict([[1.00, -3.00, 2.00]])\n",
        "print(\"Prediction:\", prediction)"
      ],
      "metadata": {
        "colab": {
          "base_uri": "https://localhost:8080/"
        },
        "id": "ayO09I3hUmBj",
        "outputId": "86a319a4-f6ce-41fa-ebf5-a7cd03776229"
      },
      "execution_count": null,
      "outputs": [
        {
          "output_type": "stream",
          "name": "stdout",
          "text": [
            "1/1 [==============================] - 0s 90ms/step\n",
            "Prediction: [[1.3745203 0.2658733]]\n"
          ]
        }
      ]
    },
    {
      "cell_type": "code",
      "source": [
        "print(\"These are the layer variables: {}\".format(l0.get_weights())) # Print the weights of the layer (assuming a typo, should be `model.get_weights()`)"
      ],
      "metadata": {
        "colab": {
          "base_uri": "https://localhost:8080/"
        },
        "id": "zyv8yfOC7oU9",
        "outputId": "62bf9ad8-2abc-4de7-83ad-202e983bc043"
      },
      "execution_count": null,
      "outputs": [
        {
          "output_type": "stream",
          "name": "stdout",
          "text": [
            "These are the layer variables: [array([[-0.13192832,  0.28533074],\n",
            "       [-0.15559524, -0.2702055 ],\n",
            "       [-0.24652702,  0.07620421]], dtype=float32), array([ 1.532717 , -0.9824823], dtype=float32)]\n"
          ]
        }
      ]
    }
  ]
}